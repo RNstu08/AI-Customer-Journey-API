{
 "cells": [
  {
   "cell_type": "markdown",
   "id": "759e729e",
   "metadata": {},
   "source": [
    "#### Step 3.1: Setting Up the Modeling Notebook"
   ]
  },
  {
   "cell_type": "code",
   "execution_count": 1,
   "id": "4def51d0",
   "metadata": {},
   "outputs": [],
   "source": [
    "# Cell 1: Import Libraries\n",
    "import pandas as pd\n",
    "import numpy as np\n",
    "import matplotlib.pyplot as plt\n",
    "import seaborn as sns\n",
    "import joblib # For saving the model and scaler"
   ]
  },
  {
   "cell_type": "code",
   "execution_count": 2,
   "id": "e94bf478",
   "metadata": {},
   "outputs": [],
   "source": [
    "# Scikit-learn for preprocessing\n",
    "from sklearn.model_selection import train_test_split\n",
    "from sklearn.preprocessing import StandardScaler, OneHotEncoder\n",
    "from sklearn.compose import ColumnTransformer\n",
    "from sklearn.pipeline import Pipeline"
   ]
  },
  {
   "cell_type": "code",
   "execution_count": 3,
   "id": "bfd22331",
   "metadata": {},
   "outputs": [],
   "source": [
    "# Scikit-learn for modeling\n",
    "from sklearn.linear_model import LogisticRegression\n",
    "from sklearn.ensemble import GradientBoostingClassifier"
   ]
  },
  {
   "cell_type": "code",
   "execution_count": 4,
   "id": "73044fde",
   "metadata": {},
   "outputs": [],
   "source": [
    "# Scikit-learn for evaluation\n",
    "from sklearn.metrics import classification_report, confusion_matrix, roc_auc_score, roc_curve\n",
    "\n",
    "# Set style for plots\n",
    "sns.set_style('whitegrid')"
   ]
  },
  {
   "cell_type": "code",
   "execution_count": 5,
   "id": "53bb4f49",
   "metadata": {},
   "outputs": [
    {
     "data": {
      "text/html": [
       "<div>\n",
       "<style scoped>\n",
       "    .dataframe tbody tr th:only-of-type {\n",
       "        vertical-align: middle;\n",
       "    }\n",
       "\n",
       "    .dataframe tbody tr th {\n",
       "        vertical-align: top;\n",
       "    }\n",
       "\n",
       "    .dataframe thead th {\n",
       "        text-align: right;\n",
       "    }\n",
       "</style>\n",
       "<table border=\"1\" class=\"dataframe\">\n",
       "  <thead>\n",
       "    <tr style=\"text-align: right;\">\n",
       "      <th></th>\n",
       "      <th>CustomerID</th>\n",
       "      <th>Age</th>\n",
       "      <th>Gender</th>\n",
       "      <th>Location</th>\n",
       "      <th>SubscriptionTier</th>\n",
       "      <th>Tenure</th>\n",
       "      <th>MonthlyRevenue</th>\n",
       "      <th>UsageFrequency</th>\n",
       "      <th>SupportTickets</th>\n",
       "      <th>LastInteraction</th>\n",
       "      <th>Churn</th>\n",
       "    </tr>\n",
       "  </thead>\n",
       "  <tbody>\n",
       "    <tr>\n",
       "      <th>0</th>\n",
       "      <td>539437dc-664b-480c-9937-790233cc3ce9</td>\n",
       "      <td>27</td>\n",
       "      <td>Male</td>\n",
       "      <td>Houston</td>\n",
       "      <td>Premium</td>\n",
       "      <td>39</td>\n",
       "      <td>109.62</td>\n",
       "      <td>66</td>\n",
       "      <td>2</td>\n",
       "      <td>17</td>\n",
       "      <td>0</td>\n",
       "    </tr>\n",
       "    <tr>\n",
       "      <th>1</th>\n",
       "      <td>528c42a3-b6a1-45df-913d-b2ecc0ac021b</td>\n",
       "      <td>60</td>\n",
       "      <td>Female</td>\n",
       "      <td>New York</td>\n",
       "      <td>Premium</td>\n",
       "      <td>60</td>\n",
       "      <td>108.37</td>\n",
       "      <td>108</td>\n",
       "      <td>0</td>\n",
       "      <td>35</td>\n",
       "      <td>0</td>\n",
       "    </tr>\n",
       "    <tr>\n",
       "      <th>2</th>\n",
       "      <td>f653e6b1-ed4b-4d26-b5e0-0bbf32f6a476</td>\n",
       "      <td>60</td>\n",
       "      <td>Male</td>\n",
       "      <td>San Jose</td>\n",
       "      <td>Premium</td>\n",
       "      <td>59</td>\n",
       "      <td>137.84</td>\n",
       "      <td>81</td>\n",
       "      <td>0</td>\n",
       "      <td>14</td>\n",
       "      <td>0</td>\n",
       "    </tr>\n",
       "    <tr>\n",
       "      <th>3</th>\n",
       "      <td>6217dde2-65c5-4620-9454-9877fbc55439</td>\n",
       "      <td>51</td>\n",
       "      <td>Male</td>\n",
       "      <td>Dallas</td>\n",
       "      <td>Basic</td>\n",
       "      <td>14</td>\n",
       "      <td>24.09</td>\n",
       "      <td>19</td>\n",
       "      <td>0</td>\n",
       "      <td>4</td>\n",
       "      <td>0</td>\n",
       "    </tr>\n",
       "    <tr>\n",
       "      <th>4</th>\n",
       "      <td>e13935ce-0394-4476-93c2-cb38ca14741a</td>\n",
       "      <td>60</td>\n",
       "      <td>Female</td>\n",
       "      <td>New York</td>\n",
       "      <td>Premium</td>\n",
       "      <td>54</td>\n",
       "      <td>87.08</td>\n",
       "      <td>98</td>\n",
       "      <td>0</td>\n",
       "      <td>57</td>\n",
       "      <td>0</td>\n",
       "    </tr>\n",
       "  </tbody>\n",
       "</table>\n",
       "</div>"
      ],
      "text/plain": [
       "                             CustomerID  Age  Gender  Location  \\\n",
       "0  539437dc-664b-480c-9937-790233cc3ce9   27    Male   Houston   \n",
       "1  528c42a3-b6a1-45df-913d-b2ecc0ac021b   60  Female  New York   \n",
       "2  f653e6b1-ed4b-4d26-b5e0-0bbf32f6a476   60    Male  San Jose   \n",
       "3  6217dde2-65c5-4620-9454-9877fbc55439   51    Male    Dallas   \n",
       "4  e13935ce-0394-4476-93c2-cb38ca14741a   60  Female  New York   \n",
       "\n",
       "  SubscriptionTier  Tenure  MonthlyRevenue  UsageFrequency  SupportTickets  \\\n",
       "0          Premium      39          109.62              66               2   \n",
       "1          Premium      60          108.37             108               0   \n",
       "2          Premium      59          137.84              81               0   \n",
       "3            Basic      14           24.09              19               0   \n",
       "4          Premium      54           87.08              98               0   \n",
       "\n",
       "   LastInteraction  Churn  \n",
       "0               17      0  \n",
       "1               35      0  \n",
       "2               14      0  \n",
       "3                4      0  \n",
       "4               57      0  "
      ]
     },
     "execution_count": 5,
     "metadata": {},
     "output_type": "execute_result"
    }
   ],
   "source": [
    "# Cell 2: Load Data\n",
    "df = pd.read_csv('data/crm_data.csv')\n",
    "\n",
    "# Display a sample to verify\n",
    "df.head()"
   ]
  },
  {
   "cell_type": "markdown",
   "id": "10e7f2a3",
   "metadata": {},
   "source": [
    "#### Step 3.2: Data Preprocessing\n",
    "Raw data is not suitable for machine learning models. We need to convert it into a purely numerical format.\n",
    "\n",
    "This involves three key steps:\n",
    "\n",
    "* Separating our features (X) from our target variable (y).\n",
    "* Converting categorical text features into numbers (One-Hot Encoding).\n",
    "* Scaling numerical features so they are on a similar scale."
   ]
  },
  {
   "cell_type": "markdown",
   "id": "52a1e3d5",
   "metadata": {},
   "source": [
    "#### Defining Features (X) and Target (y)."
   ]
  },
  {
   "cell_type": "code",
   "execution_count": 6,
   "id": "ac974943",
   "metadata": {},
   "outputs": [
    {
     "name": "stdout",
     "output_type": "stream",
     "text": [
      "Shape of X: (10000, 9)\n",
      "Shape of y: (10000,)\n"
     ]
    }
   ],
   "source": [
    "# Cell 3: Separate Features and Target\n",
    "# The CustomerID is a unique identifier, not a predictive feature, so we drop it.\n",
    "X = df.drop(['Churn', 'CustomerID'], axis=1)\n",
    "y = df['Churn']\n",
    "\n",
    "print(\"Shape of X:\", X.shape)\n",
    "print(\"Shape of y:\", y.shape)"
   ]
  },
  {
   "cell_type": "markdown",
   "id": "f79db4aa",
   "metadata": {},
   "source": [
    "#### Split data into Training and Testing sets.\n",
    "\n",
    "This is the most fundamental step to ensure we can evaluate our model's performance on data it has never seen before."
   ]
  },
  {
   "cell_type": "code",
   "execution_count": 7,
   "id": "09674928",
   "metadata": {},
   "outputs": [
    {
     "name": "stdout",
     "output_type": "stream",
     "text": [
      "Training set shape: (8000, 9)\n",
      "Testing set shape: (2000, 9)\n"
     ]
    }
   ],
   "source": [
    "# Cell 4: Split the data\n",
    "# We use stratify=y to ensure the proportion of churned customers is the same in train and test sets.\n",
    "# This is crucial for imbalanced datasets.\n",
    "X_train, X_test, y_train, y_test = train_test_split(X, y, test_size=0.2, random_state=42, stratify=y)\n",
    "\n",
    "print(\"Training set shape:\", X_train.shape)\n",
    "print(\"Testing set shape:\", X_test.shape)"
   ]
  },
  {
   "cell_type": "markdown",
   "id": "81a18384",
   "metadata": {},
   "source": [
    "* Why do we do this?\n",
    "\n",
    "We train the model on the _train data and then test its real-world performance on the _test data. The random_state=42 ensures that we get the same split every time we run the code, making our results reproducible."
   ]
  },
  {
   "cell_type": "markdown",
   "id": "e098485d",
   "metadata": {},
   "source": [
    "#### Create a Preprocessing Pipeline.\n",
    "\n",
    "We'll use Scikit-learn's Pipeline and ColumnTransformer to create an elegant and robust preprocessing workflow. This bundles all our steps together."
   ]
  },
  {
   "cell_type": "code",
   "execution_count": 8,
   "id": "e2f2275a",
   "metadata": {},
   "outputs": [
    {
     "name": "stdout",
     "output_type": "stream",
     "text": [
      "Shape of processed training data: (8000, 21)\n",
      "Shape of processed testing data: (2000, 21)\n"
     ]
    }
   ],
   "source": [
    "# Cell 5: Create Preprocessing Pipeline\n",
    "# Identify categorical and numerical features\n",
    "categorical_features = ['Gender', 'Location', 'SubscriptionTier']\n",
    "numerical_features = ['Age', 'Tenure', 'MonthlyRevenue', 'UsageFrequency', 'SupportTickets', 'LastInteraction']\n",
    "\n",
    "# Create the preprocessing pipelines for both numerical and categorical data\n",
    "# For numerical data, we'll scale it.\n",
    "# For categorical data, we'll one-hot encode it.\n",
    "preprocessor = ColumnTransformer(\n",
    "    transformers=[\n",
    "        ('num', StandardScaler(), numerical_features),\n",
    "        ('cat', OneHotEncoder(handle_unknown='ignore'), categorical_features)\n",
    "    ])\n",
    "\n",
    "# Let's see what the preprocessor does\n",
    "# Fit and transform the training data\n",
    "X_train_processed = preprocessor.fit_transform(X_train)\n",
    "X_test_processed = preprocessor.transform(X_test) # IMPORTANT: Only transform the test data\n",
    "\n",
    "print(\"Shape of processed training data:\", X_train_processed.shape)\n",
    "print(\"Shape of processed testing data:\", X_test_processed.shape)"
   ]
  },
  {
   "cell_type": "markdown",
   "id": "fbf18360",
   "metadata": {},
   "source": [
    "* Why a pipeline?\n",
    "\n",
    "* Automation: It combines multiple steps into one.\n",
    "Prevents Data Leakage: By fitting the StandardScaler only on the training data and then using it to transform both train and test data, we prevent any information from the test set from \"leaking\" into our training process.\n",
    "* Reproducibility: It ensures the exact same transformations are applied every time.\n",
    "\n",
    "Notice the shape of the processed data has more columns. This is because OneHotEncoder created new columns for each category (e.g., Location_New York, Location_Chicago, etc.)."
   ]
  },
  {
   "cell_type": "markdown",
   "id": "7dffb08e",
   "metadata": {},
   "source": [
    "#### Step 3.3: Model Training\n",
    "\n",
    "We'll train two models:\n",
    "\n",
    "* Logistic Regression: A simple, interpretable model that will serve as our baseline.\n",
    "* Gradient Boosting: A powerful and popular ensemble model that is often a top performer on tabular data."
   ]
  },
  {
   "cell_type": "code",
   "execution_count": 9,
   "id": "82282b7a",
   "metadata": {},
   "outputs": [],
   "source": [
    "# Cell 6: Train Models\n",
    "# We will create full pipelines that include the preprocessor and the model\n",
    "# This makes it easy to use the model later on raw data"
   ]
  },
  {
   "cell_type": "code",
   "execution_count": 10,
   "id": "acfeea79",
   "metadata": {},
   "outputs": [
    {
     "name": "stdout",
     "output_type": "stream",
     "text": [
      "Training Logistic Regression model...\n",
      "Training complete.\n"
     ]
    }
   ],
   "source": [
    "# --- Model 1: Logistic Regression (Baseline) ---\n",
    "# We use class_weight='balanced' to help the model deal with the imbalanced data\n",
    "pipeline_lr = Pipeline(steps=[('preprocessor', preprocessor),\n",
    "                              ('classifier', LogisticRegression(class_weight='balanced', random_state=42))])\n",
    "\n",
    "print(\"Training Logistic Regression model...\")\n",
    "pipeline_lr.fit(X_train, y_train)\n",
    "print(\"Training complete.\")"
   ]
  },
  {
   "cell_type": "code",
   "execution_count": 11,
   "id": "2568bbe4",
   "metadata": {},
   "outputs": [
    {
     "name": "stdout",
     "output_type": "stream",
     "text": [
      "\n",
      "Training Gradient Boosting model...\n",
      "Training complete.\n"
     ]
    }
   ],
   "source": [
    "# --- Model 2: Gradient Boosting (Advanced) ---\n",
    "pipeline_gb = Pipeline(steps=[('preprocessor', preprocessor),\n",
    "                              ('classifier', GradientBoostingClassifier(random_state=42))])\n",
    "\n",
    "print(\"\\nTraining Gradient Boosting model...\")\n",
    "pipeline_gb.fit(X_train, y_train)\n",
    "print(\"Training complete.\")"
   ]
  },
  {
   "cell_type": "markdown",
   "id": "742f4a8a",
   "metadata": {},
   "source": [
    "#### Step 3.4: Model Evaluation\n",
    "How good are our models? We need to use the right metrics. For an imbalanced problem like churn, accuracy is not enough. We need to look at precision, recall, and the AUC score.\n",
    "\n",
    "* Precision: Of all the customers we predicted would churn, how many actually did? (High precision means we don't bother happy customers).\n",
    "* Recall: Of all the customers who actually churned, how many did we catch? (High recall means we don't miss at-risk customers)."
   ]
  },
  {
   "cell_type": "code",
   "execution_count": 12,
   "id": "ac2749ff",
   "metadata": {},
   "outputs": [],
   "source": [
    "# Cell 7: Make predictions\n",
    "y_pred_lr = pipeline_lr.predict(X_test)\n",
    "y_pred_gb = pipeline_gb.predict(X_test)"
   ]
  },
  {
   "cell_type": "code",
   "execution_count": 13,
   "id": "c4e5dfaa",
   "metadata": {},
   "outputs": [
    {
     "name": "stdout",
     "output_type": "stream",
     "text": [
      "--- Logistic Regression Report ---\n",
      "              precision    recall  f1-score   support\n",
      "\n",
      "           0       0.97      0.75      0.85      1700\n",
      "           1       0.38      0.88      0.53       300\n",
      "\n",
      "    accuracy                           0.77      2000\n",
      "   macro avg       0.68      0.81      0.69      2000\n",
      "weighted avg       0.88      0.77      0.80      2000\n",
      "\n",
      "\n",
      "\n",
      "--- Gradient Boosting Report ---\n",
      "              precision    recall  f1-score   support\n",
      "\n",
      "           0       0.87      0.98      0.92      1700\n",
      "           1       0.64      0.16      0.25       300\n",
      "\n",
      "    accuracy                           0.86      2000\n",
      "   macro avg       0.75      0.57      0.59      2000\n",
      "weighted avg       0.83      0.86      0.82      2000\n",
      "\n"
     ]
    }
   ],
   "source": [
    "# Cell 8: Evaluate Models with Classification Report\n",
    "print(\"--- Logistic Regression Report ---\")\n",
    "print(classification_report(y_test, y_pred_lr))\n",
    "\n",
    "print(\"\\n\\n--- Gradient Boosting Report ---\")\n",
    "print(classification_report(y_test, y_pred_gb))"
   ]
  },
  {
   "cell_type": "markdown",
   "id": "77aeb25d",
   "metadata": {},
   "source": [
    "##### Interpreting the Output:\n",
    "* Looking at the above reuslts, specifically the lines for class 1 (Churn). \n",
    "* We see that the Gradient Boosting model has a better F1-score, which is a balanced measure of precision and recall. \n",
    "* For churn prediction, we often care more about Recall for class 1 — we'd rather mistakenly flag a happy customer (a false positive) than miss a customer who is about to leave (a false negative). The Gradient Boosting model should be superior here."
   ]
  },
  {
   "cell_type": "markdown",
   "id": "ddb37e4d",
   "metadata": {},
   "source": [
    "#### Visualize the Confusion Matrix and ROC Curve for our best model."
   ]
  },
  {
   "cell_type": "code",
   "execution_count": 14,
   "id": "4ae0724d",
   "metadata": {},
   "outputs": [
    {
     "data": {
      "image/png": "[encoded data removed]",
      "text/plain": [
       "<Figure size 800x600 with 2 Axes>"
      ]
     },
     "metadata": {},
     "output_type": "display_data"
    }
   ],
   "source": [
    "# Cell 9: Confusion Matrix for Gradient Boosting\n",
    "cm = confusion_matrix(y_test, y_pred_gb)\n",
    "plt.figure(figsize=(8, 6))\n",
    "sns.heatmap(cm, annot=True, fmt='d', cmap='Blues',\n",
    "            xticklabels=['Not Churned', 'Churned'],\n",
    "            yticklabels=['Not Churned', 'Churned'])\n",
    "plt.xlabel('Predicted')\n",
    "plt.ylabel('Actual')\n",
    "plt.title('Confusion Matrix - Gradient Boosting')\n",
    "plt.show()"
   ]
  },
  {
   "cell_type": "code",
   "execution_count": 15,
   "id": "788e712c",
   "metadata": {},
   "outputs": [
    {
     "data": {
      "image/png": "[encoded data removed]",
      "text/plain": [
       "<Figure size 800x600 with 1 Axes>"
      ]
     },
     "metadata": {},
     "output_type": "display_data"
    },
    {
     "name": "stdout",
     "output_type": "stream",
     "text": [
      "AUC Score for Gradient Boosting: 0.9052\n"
     ]
    }
   ],
   "source": [
    "# Cell 10: ROC Curve and AUC Score\n",
    "y_prob_gb = pipeline_gb.predict_proba(X_test)[:, 1] # Get probabilities for the positive class\n",
    "auc_score = roc_auc_score(y_test, y_prob_gb)\n",
    "fpr, tpr, thresholds = roc_curve(y_test, y_prob_gb)\n",
    "\n",
    "plt.figure(figsize=(8, 6))\n",
    "plt.plot(fpr, tpr, color='darkorange', lw=2, label=f'ROC curve (area = {auc_score:.2f})')\n",
    "plt.plot([0, 1], [0, 1], color='navy', lw=2, linestyle='--')\n",
    "plt.xlim([0.0, 1.0])\n",
    "plt.ylim([0.0, 1.05])\n",
    "plt.xlabel('False Positive Rate')\n",
    "plt.ylabel('True Positive Rate')\n",
    "plt.title('Receiver Operating Characteristic (ROC) Curve')\n",
    "plt.legend(loc=\"lower right\")\n",
    "plt.show()\n",
    "\n",
    "print(f\"AUC Score for Gradient Boosting: {auc_score:.4f}\")"
   ]
  },
  {
   "cell_type": "markdown",
   "id": "3c1f78c3",
   "metadata": {},
   "source": [
    "The AUC score gives us a single number to represent the model's overall ability to distinguish between churners and non-churners. A score close to 1.0 is excellent. Our Gradient Boosting model should achieve a score well above 0.5."
   ]
  },
  {
   "cell_type": "markdown",
   "id": "92c6d0ea",
   "metadata": {},
   "source": [
    "#### Step 3.5: Feature Importance\n",
    "Let's ask our best model (Gradient Boosting) which features it found most important for making its predictions."
   ]
  },
  {
   "cell_type": "code",
   "execution_count": 16,
   "id": "ca6ee909",
   "metadata": {},
   "outputs": [
    {
     "data": {
      "image/png": "[encoded data removed]",
      "text/plain": [
       "<Figure size 1200x800 with 1 Axes>"
      ]
     },
     "metadata": {},
     "output_type": "display_data"
    }
   ],
   "source": [
    "# Cell 11: Get Feature Importances\n",
    "# We need to get the feature names after one-hot encoding\n",
    "ohe_feature_names = pipeline_gb.named_steps['preprocessor'].named_transformers_['cat'].get_feature_names_out(categorical_features)\n",
    "all_feature_names = numerical_features + list(ohe_feature_names)\n",
    "\n",
    "importances = pipeline_gb.named_steps['classifier'].feature_importances_\n",
    "\n",
    "# Create a DataFrame for visualization\n",
    "feature_importance_df = pd.DataFrame({\n",
    "    'feature': all_feature_names,\n",
    "    'importance': importances\n",
    "}).sort_values('importance', ascending=False)\n",
    "\n",
    "# Plot\n",
    "plt.figure(figsize=(12, 8))\n",
    "sns.barplot(x='importance', y='feature', data=feature_importance_df.head(10)) # Top 10 features\n",
    "plt.title('Top 10 Feature Importances from Gradient Boosting Model')\n",
    "plt.show()"
   ]
  },
  {
   "cell_type": "markdown",
   "id": "9b5b212e",
   "metadata": {},
   "source": [
    "This bar chart is incredibly valuable. It will visually confirm what we suspected during EDA: UsageFrequency, Tenure, and LastInteraction are likely to be the most powerful predictors of churn. This provides business users with actionable insights."
   ]
  },
  {
   "cell_type": "markdown",
   "id": "e3c8dca6",
   "metadata": {},
   "source": [
    "#### Step 3.6: Saving the Final Model\n",
    "We've selected our best model: the Gradient Boosting pipeline. Now, we must save it to disk so we can use it in our production system without having to retrain it every time."
   ]
  },
  {
   "cell_type": "markdown",
   "id": "5ca594da",
   "metadata": {},
   "source": [
    "#### Create a models folder and save the pipeline."
   ]
  },
  {
   "cell_type": "code",
   "execution_count": 17,
   "id": "476e01b6",
   "metadata": {},
   "outputs": [
    {
     "name": "stdout",
     "output_type": "stream",
     "text": [
      "Model pipeline saved to: models/churn_model_pipeline.joblib\n"
     ]
    }
   ],
   "source": [
    "# Cell 12: Save the final model pipeline\n",
    "# We are saving the entire pipeline (preprocessor + model)\n",
    "# This makes it easy to use for future predictions on raw data\n",
    "model_path = 'models/churn_model_pipeline.joblib'\n",
    "joblib.dump(pipeline_gb, model_path)\n",
    "\n",
    "print(f\"Model pipeline saved to: {model_path}\")"
   ]
  },
  {
   "cell_type": "markdown",
   "id": "2d850cd3",
   "metadata": {},
   "source": [
    "This file contains our entire trained workflow, ready to be deployed"
   ]
  },
  {
   "cell_type": "code",
   "execution_count": 26,
   "id": "e0368393",
   "metadata": {},
   "outputs": [
    {
     "name": "stdout",
     "output_type": "stream",
     "text": [
      "Your absolute MLflow Tracking URI is:\n",
      "file:///d:/Machine_learning/Projects/ai-customer-journey/mlruns\n"
     ]
    }
   ],
   "source": [
    "import os\n",
    "# This will get the full, unambiguous path to your project directory\n",
    "# We'll use this to create an absolute path to our mlruns folder\n",
    "project_path = os.getcwd()\n",
    "mlruns_path = os.path.join(project_path, \"mlruns\")\n",
    "\n",
    "# The format needs to be a URI (file:///)\n",
    "# On Windows, we need to make sure the slashes are correct\n",
    "mlruns_uri = \"file:///\" + mlruns_path.replace(\"\\\\\", \"/\")\n",
    "\n",
    "print(\"Your absolute MLflow Tracking URI is:\")\n",
    "print(mlruns_uri)"
   ]
  },
  {
   "cell_type": "code",
   "execution_count": 36,
   "id": "d89b38cf",
   "metadata": {},
   "outputs": [
    {
     "name": "stdout",
     "output_type": "stream",
     "text": [
      "AWS credentials loaded successfully from .env file.\n"
     ]
    }
   ],
   "source": [
    "# Cell 13: Setup MLflow and AWS\n",
    "import mlflow\n",
    "import os\n",
    "from dotenv import load_dotenv\n",
    "\n",
    "# This function will find and load the variables from your .env file\n",
    "load_dotenv()\n",
    "\n",
    "# Check if the variables were loaded correctly\n",
    "aws_key = os.getenv(\"AWS_ACCESS_KEY_ID\")\n",
    "aws_secret = os.getenv(\"AWS_SECRET_ACCESS_KEY\")\n",
    "\n",
    "if not aws_key or not aws_secret:\n",
    "    raise ValueError(\"AWS credentials not found. Make sure they are in your .env file.\")\n",
    "else:\n",
    "    print(\"AWS credentials loaded successfully from .env file.\")\n",
    "    \n",
    "# Paste your S3 bucket name\n",
    "S3_BUCKET_NAME = 'ai-journey-mlflow-models-rnstud08'\n",
    "# --- END CONFIGURATION ---\n",
    "\n",
    "# Set the MLflow tracking URI to a local directory.\n",
    "# MLflow will store experiment metadata locally and model artifacts on S3.\n",
    "# mlflow.set_tracking_uri(\"file:///./mlruns\")\n",
    "mlflow.set_tracking_uri(\"mlruns\")\n",
    "\n",
    "# Set the S3 bucket as the artifact store\n",
    "artifact_location = f\"s3://{S3_BUCKET_NAME}/mlflow-artifacts\""
   ]
  },
  {
   "cell_type": "code",
   "execution_count": 37,
   "id": "f70555c2",
   "metadata": {},
   "outputs": [
    {
     "name": "stdout",
     "output_type": "stream",
     "text": [
      "Converting integer columns to float64 for robustness...\n",
      "Data types corrected.\n",
      "\n",
      "Starting MLflow run to train and log the model...\n"
     ]
    },
    {
     "name": "stderr",
     "output_type": "stream",
     "text": [
      "2025/06/19 17:31:26 WARNING mlflow.models.model: `artifact_path` is deprecated. Please use `name` instead.\n"
     ]
    },
    {
     "name": "stdout",
     "output_type": "stream",
     "text": [
      "Model training complete.\n",
      "Model AUC Score: 0.9052\n",
      "Model signature inferred successfully.\n",
      "Logging and registering the model to MLflow...\n",
      "\n",
      "MLflow Run ID: b130552326bf45feb1562575f574d5a8\n",
      "Model successfully saved to S3 and registered as 'churn-predictor'\n"
     ]
    },
    {
     "name": "stderr",
     "output_type": "stream",
     "text": [
      "Registered model 'churn-predictor' already exists. Creating a new version of this model...\n",
      "Created version '3' of model 'churn-predictor'.\n"
     ]
    }
   ],
   "source": [
    "# The Ultimate Training & Logging Cell (with all best practices)\n",
    "\n",
    "import mlflow\n",
    "from mlflow.models import infer_signature\n",
    "import pandas as pd\n",
    "from sklearn.pipeline import Pipeline\n",
    "from sklearn.ensemble import GradientBoostingClassifier\n",
    "from sklearn.metrics import roc_auc_score\n",
    "\n",
    "# --- BEST PRACTICE: Handle potential missing values in integer columns ---\n",
    "# Convert integer columns to float64 to make the model signature more robust\n",
    "print(\"Converting integer columns to float64 for robustness...\")\n",
    "int_cols = X.select_dtypes(include=['int64', 'int32']).columns\n",
    "X[int_cols] = X[int_cols].astype('float64')\n",
    "\n",
    "# Re-run train_test_split with the corrected dtype\n",
    "X_train, X_test, y_train, y_test = train_test_split(X, y, test_size=0.2, random_state=42, stratify=y)\n",
    "print(\"Data types corrected.\")\n",
    "# ---\n",
    "\n",
    "# Define the full pipeline\n",
    "pipeline_gb = Pipeline(steps=[('preprocessor', preprocessor),\n",
    "                              ('classifier', GradientBoostingClassifier(random_state=42))])\n",
    "\n",
    "# Define an experiment name\n",
    "experiment_name = \"Churn_Prediction_Experiment\"\n",
    "mlflow.set_experiment(experiment_name)\n",
    "\n",
    "print(\"\\nStarting MLflow run to train and log the model...\")\n",
    "with mlflow.start_run(run_name=\"GradientBoosting_Robust_Run\") as run:\n",
    "    # Train the model\n",
    "    pipeline_gb.fit(X_train, y_train)\n",
    "    print(\"Model training complete.\")\n",
    "    \n",
    "    # Evaluate the model\n",
    "    y_prob_gb = pipeline_gb.predict_proba(X_test)[:, 1]\n",
    "    auc_score = roc_auc_score(y_test, y_prob_gb)\n",
    "    print(f\"Model AUC Score: {auc_score:.4f}\")\n",
    "\n",
    "    # Create the model signature\n",
    "    input_example = X_train.head()\n",
    "    signature = infer_signature(input_example, pipeline_gb.predict_proba(input_example))\n",
    "    print(\"Model signature inferred successfully.\")\n",
    "\n",
    "    # Log artifacts to MLflow\n",
    "    mlflow.log_params(pipeline_gb.named_steps['classifier'].get_params())\n",
    "    mlflow.log_metric(\"roc_auc\", auc_score)\n",
    "    \n",
    "    # Log the model with the signature and corrected parameter name\n",
    "    print(\"Logging and registering the model to MLflow...\")\n",
    "    mlflow.sklearn.log_model(\n",
    "        sk_model=pipeline_gb,\n",
    "        artifact_path=\"churn_model\", # This is the folder name in the run's artifacts\n",
    "        signature=signature,\n",
    "        input_example=input_example,\n",
    "        registered_model_name=\"churn-predictor\"\n",
    "    )\n",
    "    \n",
    "    run_id = run.info.run_id\n",
    "    print(f\"\\nMLflow Run ID: {run_id}\")\n",
    "    print(f\"Model successfully saved to S3 and registered as 'churn-predictor'\")"
   ]
  },
  {
   "cell_type": "code",
   "execution_count": 24,
   "id": "bf86e5bf",
   "metadata": {},
   "outputs": [
    {
     "name": "stdout",
     "output_type": "stream",
     "text": [
      "--- AWS Connection Test ---\n",
      "✅ SUCCESS: Credentials found in environment.\n",
      "Checking access to bucket: ai-journey-mlflow-models-rnstud08...\n",
      "✅ SUCCESS: Successfully connected and have access to the S3 bucket 'ai-journey-mlflow-models-rnstud08'.\n"
     ]
    }
   ],
   "source": [
    "# AWS Connection Diagnostic Cell\n",
    "import os\n",
    "import boto3\n",
    "from botocore.exceptions import NoCredentialsError, ClientError\n",
    "from dotenv import load_dotenv\n",
    "\n",
    "load_dotenv() # Load variables from .env\n",
    "\n",
    "# Get credentials from environment\n",
    "aws_key = os.getenv(\"AWS_ACCESS_KEY_ID\")\n",
    "aws_secret = os.getenv(\"AWS_SECRET_ACCESS_KEY\")\n",
    "bucket_name = \"ai-journey-mlflow-models-rnstud08\" # <-- IMPORTANT: Make sure this is correct!\n",
    "\n",
    "print(\"--- AWS Connection Test ---\")\n",
    "\n",
    "if not aws_key or not aws_secret:\n",
    "    print(\"❌ FAILURE: AWS_ACCESS_KEY_ID or AWS_SECRET_ACCESS_KEY not found in environment.\")\n",
    "else:\n",
    "    print(\"✅ SUCCESS: Credentials found in environment.\")\n",
    "    \n",
    "    session = boto3.Session(\n",
    "        aws_access_key_id=aws_key,\n",
    "        aws_secret_access_key=aws_secret,\n",
    "    )\n",
    "    \n",
    "    s3 = session.resource('s3')\n",
    "    \n",
    "    try:\n",
    "        print(f\"Checking access to bucket: {bucket_name}...\")\n",
    "        s3.meta.client.head_bucket(Bucket=bucket_name)\n",
    "        print(f\"✅ SUCCESS: Successfully connected and have access to the S3 bucket '{bucket_name}'.\")\n",
    "    except NoCredentialsError:\n",
    "        print(\"❌ FAILURE: Boto3 was unable to locate credentials.\")\n",
    "    except ClientError as e:\n",
    "        # If a client error is thrown, check the error code.\n",
    "        error_code = e.response['Error']['Code']\n",
    "        if error_code == '404':\n",
    "            print(f\"❌ FAILURE: Bucket '{bucket_name}' does not exist.\")\n",
    "        elif error_code == '403':\n",
    "            print(f\"❌ FAILURE: Access Denied. You do not have permission to access the bucket '{bucket_name}'.\")\n",
    "        else:\n",
    "            print(f\"❌ FAILURE: An unexpected client error occurred: {e}\")\n",
    "    except Exception as e:\n",
    "        print(f\"❌ FAILURE: An unexpected error occurred: {e}\")"
   ]
  },
  {
   "cell_type": "code",
   "execution_count": null,
   "id": "684c5dba",
   "metadata": {},
   "outputs": [],
   "source": []
  }
 ],
 "metadata": {
  "kernelspec": {
   "display_name": "venv",
   "language": "python",
   "name": "python3"
  },
  "language_info": {
   "codemirror_mode": {
    "name": "ipython",
    "version": 3
   },
   "file_extension": ".py",
   "mimetype": "text/x-python",
   "name": "python",
   "nbconvert_exporter": "python",
   "pygments_lexer": "ipython3",
   "version": "3.12.10"
  }
 },
 "nbformat": 4,
 "nbformat_minor": 5
}
